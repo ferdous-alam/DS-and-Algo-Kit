{
 "cells": [
  {
   "cell_type": "markdown",
   "id": "7878f454",
   "metadata": {},
   "source": [
    "# Stacks"
   ]
  },
  {
   "cell_type": "markdown",
   "id": "5a704321",
   "metadata": {},
   "source": [
    "Works in **LIFO** order\n",
    "\n",
    "1. time complexity: \n",
    " - push and pop operation: $O(1)$\n",
    " - access $O(n)$\n",
    " - search $O(n)$\n",
    " \n",
    "2. space complexity: $O(n)$\n",
    " \n",
    "Useful link for time complexity of common data structures and algorithms: https://www.bigocheatsheet.com/"
   ]
  },
  {
   "cell_type": "markdown",
   "id": "7de71cc4",
   "metadata": {},
   "source": [
    "### Python list operations (source: https://docs.python.org/3/tutorial/datastructures.html)"
   ]
  },
  {
   "cell_type": "markdown",
   "id": "effaab11",
   "metadata": {},
   "source": [
    "- list.append(x)\n",
    "- list.extend(iterable)\n",
    "- list.insert(i, x)\n",
    "- list.remove(x)\n",
    "- list.pop([i])\n",
    "- list.clear()\n",
    "- list.index(x[, start[, end]])\n",
    "- list.count(x)\n",
    "- list.sort(*, key=None, reverse=False)\n",
    "- list.reverse()\n",
    "- list.copy()"
   ]
  },
  {
   "cell_type": "code",
   "execution_count": 68,
   "id": "970db787",
   "metadata": {},
   "outputs": [
    {
     "name": "stdout",
     "output_type": "stream",
     "text": [
      "empty: []\n",
      "push: [5, 4, 2, 2, 1]\n",
      "insert 3: [5, 4, 3, 2, 2, 1]\n",
      "pop: [5, 4, 3, 2, 2]\n",
      "count 2: 2\n",
      "sorted: [2, 2, 3, 4, 5]\n",
      "add multiple elements at once: [2, 2, 3, 4, 5, 6, 7, 8]\n"
     ]
    }
   ],
   "source": [
    "# python list --> empty stack\n",
    "typical_list = []; print(f'empty: {typical_list}')\n",
    "\n",
    "# push elements to stack\n",
    "typical_list.append(5)\n",
    "typical_list.append(4)\n",
    "typical_list.append(2)\n",
    "typical_list.append(2)\n",
    "typical_list.append(1); print(f'push: {typical_list}')\n",
    "\n",
    "# insert elements to stack\n",
    "typical_list.insert(2, 3); print(f'insert 3: {typical_list}')\n",
    "\n",
    "# pop elements from stack\n",
    "typical_list.pop(); print(f'pop: {typical_list}')\n",
    "\n",
    "# count certain element frequency\n",
    "c = typical_list.count(2); print(f'count 2: {c}')\n",
    "\n",
    "# sort \n",
    "typical_list.sort(); print(f'sorted: {typical_list}')\n",
    "\n",
    "# extend\n",
    "typical_list.extend([6, 7, 8]); print(f'add multiple elements at once: {typical_list}')"
   ]
  },
  {
   "cell_type": "markdown",
   "id": "2a0357ed",
   "metadata": {},
   "source": [
    "# Queues"
   ]
  },
  {
   "cell_type": "markdown",
   "id": "38f68c28",
   "metadata": {},
   "source": [
    "Works in **FIFO** order\n",
    "\n",
    "1. time complexity: \n",
    " - push and pop operation: $O(1)$\n",
    " - access $O(n)$\n",
    " - search $O(n)$\n",
    " \n",
    "2. space complexity: $O(n)$\n",
    " \n",
    "Useful link for time complexity of common data structures and algorithms: https://www.bigocheatsheet.com/"
   ]
  },
  {
   "cell_type": "markdown",
   "id": "0d114401",
   "metadata": {},
   "source": [
    "### Python queues "
   ]
  },
  {
   "cell_type": "code",
   "execution_count": 97,
   "id": "082c3273",
   "metadata": {},
   "outputs": [
    {
     "name": "stdout",
     "output_type": "stream",
     "text": [
      "push: deque([1, 2, 3, 4, 5])\n",
      "queue to list: [1, 2, 3, 4, 5]\n",
      "pop: deque([1, 2, 3, 4])\n",
      "pop left: deque([2, 3, 4])\n",
      "rotate right: deque([4, 2, 3])\n",
      "rotate left: deque([3, 4, 2])\n",
      "count 2: 1\n",
      "reversed: [2, 4, 3]\n"
     ]
    }
   ],
   "source": [
    "from collections import deque\n",
    "\n",
    "# empty queue\n",
    "queue = deque()\n",
    "\n",
    "# push elements --> both sides\n",
    "queue.append(1)\n",
    "queue.append(2)\n",
    "queue.append(3)\n",
    "queue.append(4)\n",
    "queue.append(5); print(f'push: {queue}')\n",
    "\n",
    "# queue to list\n",
    "new_list = list(queue); print(f'queue to list: {new_list}')\n",
    "\n",
    "# pop element --> sides\n",
    "queue.pop(); print(f'pop: {queue}')\n",
    "queue.popleft(); print(f'pop left: {queue}')\n",
    "\n",
    "\n",
    "# rotate ---> both sides\n",
    "queue.rotate(1); print(f'rotate right: {queue}')\n",
    "queue.rotate(-2); print(f'rotate left: {queue}')\n",
    "\n",
    "# count\n",
    "c = queue.count(2); print(f'count 2: {c}')\n",
    "\n",
    "# reverse\n",
    "queue = reversed(queue); print(f'reversed: {list(queue)}')\n"
   ]
  },
  {
   "cell_type": "code",
   "execution_count": 8,
   "id": "9f4f510a",
   "metadata": {},
   "outputs": [
    {
     "name": "stdout",
     "output_type": "stream",
     "text": [
      "[1, 2, 3, 4, 5]\n"
     ]
    }
   ],
   "source": [
    "from collections import deque\n",
    "a = deque()\n",
    "a.append(1)\n",
    "a.append(2)\n",
    "a.append(3)\n",
    "a.append(4)\n",
    "a.append(5)\n",
    "b = list(a)\n",
    "\n",
    "print(b)"
   ]
  },
  {
   "cell_type": "code",
   "execution_count": null,
   "id": "82f9ecda",
   "metadata": {},
   "outputs": [],
   "source": []
  },
  {
   "cell_type": "code",
   "execution_count": null,
   "id": "8afa4413",
   "metadata": {},
   "outputs": [],
   "source": []
  },
  {
   "cell_type": "code",
   "execution_count": null,
   "id": "a2248e1f",
   "metadata": {},
   "outputs": [],
   "source": []
  },
  {
   "cell_type": "code",
   "execution_count": null,
   "id": "ce70ec99",
   "metadata": {},
   "outputs": [],
   "source": []
  },
  {
   "cell_type": "code",
   "execution_count": null,
   "id": "b59af89a",
   "metadata": {},
   "outputs": [],
   "source": []
  },
  {
   "cell_type": "code",
   "execution_count": null,
   "id": "cb41d3bd",
   "metadata": {},
   "outputs": [],
   "source": []
  },
  {
   "cell_type": "code",
   "execution_count": null,
   "id": "72d708ac",
   "metadata": {},
   "outputs": [],
   "source": []
  },
  {
   "cell_type": "code",
   "execution_count": null,
   "id": "51cd36c1",
   "metadata": {},
   "outputs": [],
   "source": []
  },
  {
   "cell_type": "code",
   "execution_count": null,
   "id": "7c461764",
   "metadata": {},
   "outputs": [],
   "source": []
  },
  {
   "cell_type": "code",
   "execution_count": null,
   "id": "2489c69e",
   "metadata": {},
   "outputs": [],
   "source": []
  },
  {
   "cell_type": "code",
   "execution_count": null,
   "id": "6a8d9931",
   "metadata": {},
   "outputs": [],
   "source": []
  },
  {
   "cell_type": "code",
   "execution_count": null,
   "id": "ff49ae0e",
   "metadata": {},
   "outputs": [],
   "source": []
  },
  {
   "cell_type": "code",
   "execution_count": null,
   "id": "ec59277f",
   "metadata": {},
   "outputs": [],
   "source": []
  },
  {
   "cell_type": "code",
   "execution_count": null,
   "id": "524303d2",
   "metadata": {},
   "outputs": [],
   "source": []
  },
  {
   "cell_type": "code",
   "execution_count": null,
   "id": "7e3cf104",
   "metadata": {},
   "outputs": [],
   "source": []
  },
  {
   "cell_type": "code",
   "execution_count": null,
   "id": "ff487c89",
   "metadata": {},
   "outputs": [],
   "source": []
  }
 ],
 "metadata": {
  "kernelspec": {
   "display_name": "Python 3",
   "language": "python",
   "name": "python3"
  },
  "language_info": {
   "codemirror_mode": {
    "name": "ipython",
    "version": 3
   },
   "file_extension": ".py",
   "mimetype": "text/x-python",
   "name": "python",
   "nbconvert_exporter": "python",
   "pygments_lexer": "ipython3",
   "version": "3.8.10"
  }
 },
 "nbformat": 4,
 "nbformat_minor": 5
}
