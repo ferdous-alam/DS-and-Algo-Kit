{
 "cells": [
  {
   "cell_type": "markdown",
   "id": "af9091db",
   "metadata": {},
   "source": [
    "## Binary search trees (BST)"
   ]
  },
  {
   "cell_type": "markdown",
   "id": "de989a12",
   "metadata": {},
   "source": [
    "Search tree supports $\\Rightarrow$ search, minimum, maximum, predecessor, successor, insert, delete "
   ]
  },
  {
   "cell_type": "markdown",
   "id": "0d47a34f",
   "metadata": {},
   "source": [
    "Basic tree data structure with left, right and parent node"
   ]
  },
  {
   "cell_type": "markdown",
   "id": "46563c23",
   "metadata": {},
   "source": [
    "## Time complexity"
   ]
  },
  {
   "cell_type": "markdown",
   "id": "914ac8d5",
   "metadata": {},
   "source": [
    "Basic operations take the following time\n",
    "1. $\\Theta(n)$ $\\rightarrow$ For a complete binary tree with $n$ nodes\n",
    "2. $\\Theta(\\log n)$ $\\rightarrow$ For a randomly built tree with $n$ nodes"
   ]
  },
  {
   "cell_type": "markdown",
   "id": "a6855a40",
   "metadata": {},
   "source": [
    "## Fundamental BST property"
   ]
  },
  {
   "cell_type": "markdown",
   "id": "76138827",
   "metadata": {},
   "source": [
    "1. If node $y$ is in the left subtree of node $x$ then $$y.key \\leq x.key$$\n",
    "2. If node $y$ is in the right subtree of node $x$ then $$y.key \\geq x.key$$"
   ]
  },
  {
   "cell_type": "code",
   "execution_count": 42,
   "id": "164e13db",
   "metadata": {},
   "outputs": [],
   "source": [
    "# Building a BST tree\n",
    "\n",
    "class Node:\n",
    "    def __init__(self, val=None):\n",
    "        self.left = None\n",
    "        self.right = None\n",
    "        self.val = val\n",
    "        \n",
    "# Describe some nodes\n",
    "root = Node(val=6)\n",
    "root.left = Node(val=5)\n",
    "root.left.left = Node(val=2)\n",
    "root.left.right = Node(val=5)\n",
    "root.right = Node(val=7)\n",
    "root.right.right = Node(val=8)\n"
   ]
  },
  {
   "cell_type": "code",
   "execution_count": 43,
   "id": "97f297fe",
   "metadata": {},
   "outputs": [
    {
     "name": "stdout",
     "output_type": "stream",
     "text": [
      "node value: 6\n",
      "node value: 5\n",
      "node value: 2\n",
      "node value: 5\n",
      "node value: 7\n",
      "node value: 8\n"
     ]
    }
   ],
   "source": [
    "# print BST node values \n",
    "\n",
    "def dfs_BST(node, visited): \n",
    "    print(f'node value: {node.val}')\n",
    "    visited.append(node)\n",
    "    \n",
    "    if node.left:\n",
    "        if node.left not in visited:\n",
    "            dfs_BST(node.left, visited)\n",
    "    \n",
    "    if node.right:\n",
    "        if node.right not in visited:\n",
    "            dfs_BST(node.right, visited)\n",
    "\n",
    "# print values\n",
    "dfs_BST(root, [])"
   ]
  },
  {
   "cell_type": "code",
   "execution_count": null,
   "id": "cc3133c4",
   "metadata": {},
   "outputs": [],
   "source": [
    "# check if a tree is BST\n",
    "\n"
   ]
  },
  {
   "cell_type": "code",
   "execution_count": null,
   "id": "09e0d68c",
   "metadata": {},
   "outputs": [],
   "source": []
  },
  {
   "cell_type": "code",
   "execution_count": null,
   "id": "74c15073",
   "metadata": {},
   "outputs": [],
   "source": []
  }
 ],
 "metadata": {
  "kernelspec": {
   "display_name": "Python 3",
   "language": "python",
   "name": "python3"
  },
  "language_info": {
   "codemirror_mode": {
    "name": "ipython",
    "version": 3
   },
   "file_extension": ".py",
   "mimetype": "text/x-python",
   "name": "python",
   "nbconvert_exporter": "python",
   "pygments_lexer": "ipython3",
   "version": "3.8.10"
  }
 },
 "nbformat": 4,
 "nbformat_minor": 5
}
