{
 "cells": [
  {
   "cell_type": "markdown",
   "id": "acd87474",
   "metadata": {},
   "source": [
    "# Hash tables"
   ]
  },
  {
   "cell_type": "markdown",
   "id": "46b8a935",
   "metadata": {},
   "source": [
    "Let, $T$ is hash table with $m$ elements, $U$ is universe s.t. $|U| > m$, then hash function $h$, \n",
    "\n",
    "$$h: U \\rightarrow T$$\n",
    "\n",
    "Note that $h$ must be deterministic to produce the same mapping for an input. If two keys hash to the same slot then it's called **collision**. Chaining is used for collision resolution. \n",
    "\n",
    "1. Time complexity (t.c.): \n",
    "    - worst case t.c. for inseriton $O(1)$"
   ]
  },
  {
   "cell_type": "markdown",
   "id": "8c9462d7",
   "metadata": {},
   "source": [
    "## Hash functions"
   ]
  },
  {
   "cell_type": "markdown",
   "id": "06600873",
   "metadata": {},
   "source": [
    "A good hash function satisfies the assumption of simple uniform hashing: each key is equally likely to hash any of the $m$ slots, independently of where any other key has hashed to. Below are the examples of few simple hash functions. \n",
    "\n",
    "1. The division method: $$h(k) = k \\text{ mod } m$$\n",
    "\n",
    "2. The multiplication method: $$h(k) = floor(m\\cdot(KA \\text{ mod } 1))$$"
   ]
  },
  {
   "cell_type": "code",
   "execution_count": 9,
   "id": "58e95e00",
   "metadata": {},
   "outputs": [
    {
     "name": "stdout",
     "output_type": "stream",
     "text": [
      "326507370104658947\n",
      "326507370104658947\n",
      "840438424865518107\n",
      "-322598664361057382\n"
     ]
    }
   ],
   "source": [
    "## Python builtin hash function\n",
    "\n",
    "print(hash(3.1416))\n",
    "print(hash(3.1416))\n",
    "print(hash('string'))\n",
    "print(hash('some text'))\n"
   ]
  },
  {
   "cell_type": "code",
   "execution_count": 12,
   "id": "24f0e716",
   "metadata": {},
   "outputs": [
    {
     "data": {
      "text/plain": [
       "{'key1': 'some values',\n",
       " 'key2': 'some values',\n",
       " 'key3': 'some values',\n",
       " 'key4': 'some values'}"
      ]
     },
     "execution_count": 12,
     "metadata": {},
     "output_type": "execute_result"
    }
   ],
   "source": [
    "# Python hash table ---> dictionary\n",
    "hash_table = {}\n",
    "\n",
    "hash_table['key1'] = 'some values'\n",
    "hash_table['key2'] = 'some values'\n",
    "hash_table['key3'] = 'some values'\n",
    "hash_table['key4'] = 'some values'\n",
    "\n",
    "\n",
    "hash_table"
   ]
  },
  {
   "cell_type": "markdown",
   "id": "42253aa6",
   "metadata": {},
   "source": [
    "#### useful article: https://realpython.com/python-hash-table/"
   ]
  }
 ],
 "metadata": {
  "kernelspec": {
   "display_name": "Python 3",
   "language": "python",
   "name": "python3"
  },
  "language_info": {
   "codemirror_mode": {
    "name": "ipython",
    "version": 3
   },
   "file_extension": ".py",
   "mimetype": "text/x-python",
   "name": "python",
   "nbconvert_exporter": "python",
   "pygments_lexer": "ipython3",
   "version": "3.8.10"
  }
 },
 "nbformat": 4,
 "nbformat_minor": 5
}
