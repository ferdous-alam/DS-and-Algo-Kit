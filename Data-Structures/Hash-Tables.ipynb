{
 "cells": [
  {
   "cell_type": "markdown",
   "id": "acd87474",
   "metadata": {},
   "source": [
    "# Hash tables"
   ]
  },
  {
   "cell_type": "markdown",
   "id": "46b8a935",
   "metadata": {},
   "source": [
    "Let, $T$ is hash table with $m$ elements, $U$ is universe s.t. $|U| > m$, then hash function $h$, \n",
    "\n",
    "$$h: U \\rightarrow T$$\n",
    "\n",
    "Note that $h$ must be deterministic to produce the same mapping for an input. If two keys hash to the same slot then it's called **collision**. Chaining is used for collision resolution. \n",
    "\n",
    "1. Time complexity (t.c.): \n",
    "    - worst case t.c. for inseriton $O(1)$"
   ]
  },
  {
   "cell_type": "markdown",
   "id": "8c9462d7",
   "metadata": {},
   "source": [
    "## Hash functions"
   ]
  },
  {
   "cell_type": "markdown",
   "id": "06600873",
   "metadata": {},
   "source": [
    "### 1. Division method"
   ]
  },
  {
   "cell_type": "markdown",
   "id": "f76ba6ad",
   "metadata": {},
   "source": [
    "### 2. Multiplication method"
   ]
  },
  {
   "cell_type": "markdown",
   "id": "0cee6812",
   "metadata": {},
   "source": [
    "### 3. Universal hashing"
   ]
  },
  {
   "cell_type": "markdown",
   "id": "42253aa6",
   "metadata": {},
   "source": [
    "#### useful article: https://realpython.com/python-hash-table/"
   ]
  },
  {
   "cell_type": "code",
   "execution_count": null,
   "id": "422a9d17",
   "metadata": {},
   "outputs": [],
   "source": []
  }
 ],
 "metadata": {
  "kernelspec": {
   "display_name": "Python 3",
   "language": "python",
   "name": "python3"
  },
  "language_info": {
   "codemirror_mode": {
    "name": "ipython",
    "version": 3
   },
   "file_extension": ".py",
   "mimetype": "text/x-python",
   "name": "python",
   "nbconvert_exporter": "python",
   "pygments_lexer": "ipython3",
   "version": "3.8.10"
  }
 },
 "nbformat": 4,
 "nbformat_minor": 5
}
